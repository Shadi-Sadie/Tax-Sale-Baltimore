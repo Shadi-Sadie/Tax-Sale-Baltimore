{
 "cells": [
  {
   "cell_type": "code",
   "execution_count": 3,
   "metadata": {},
   "outputs": [],
   "source": [
    "from geopy.geocoders import Nominatim\n",
    "import pandas as pd\n",
    "import time"
   ]
  },
  {
   "cell_type": "code",
   "execution_count": 6,
   "metadata": {},
   "outputs": [
    {
     "name": "stdout",
     "output_type": "stream",
     "text": [
      "  BLOCK_LOT  BLOCK   LOT  DISTRICT                         OWNER_NAME  \\\n",
      "0   0001003  0001   003        7.0  NEW YORK INC                        \n",
      "1   0001004  0001   004        7.0  MUHAMMAD, ANNA AVON                 \n",
      "2   0001005  0001   005        7.0  WHITE CARR DEVELOPMENT GROUP,       \n",
      "3   0001010  0001   010        7.0  HARRIS JR, MELVIN D                 \n",
      "4   0001013  0001   013        7.0  BRADLEY, GREGORY                    \n",
      "\n",
      "                             PROPERTY_ADDRESS      ZIP  ASSESSED_VALUE  \\\n",
      "0  2041 W NORTH AVE                            21217.0            9000   \n",
      "1  2039 W NORTH AVE                            21217.0            9000   \n",
      "2  2037 W NORTH AVE                            21217.0           42033   \n",
      "3  2027 W NORTH AVE                            21217.0           42033   \n",
      "4  2021 W NORTH AVE                            21217.0            9000   \n",
      "\n",
      "     LIEN_1  DEED_DATE  ... AMT_BID BALANCE  BIDDER_TYPE BIDDER_NUM  \\\n",
      "0  80261.82    27684.0  ...     NaN     NaN          NaN        NaN   \n",
      "1    430.67    41956.0  ...     NaN     NaN          NaN        NaN   \n",
      "2   1098.83    44351.0  ...     NaN     NaN          NaN        NaN   \n",
      "3   1098.83    44763.0  ...     NaN     NaN          NaN        NaN   \n",
      "4    373.15    43921.0  ...     NaN     NaN          NaN        NaN   \n",
      "\n",
      "   BIDDER_NAME  BIDDER_STATE RP_ZONE  RP_COUN_DIST     LIEN_2  YEAR  \n",
      "0          NaN           NaN     NaN           NaN  81,060.04  2024  \n",
      "1          NaN           NaN     NaN           NaN        NaN  2024  \n",
      "2          NaN           NaN     NaN           NaN   1,119.54  2024  \n",
      "3          NaN           NaN     NaN           NaN        NaN  2024  \n",
      "4          NaN           NaN     NaN           NaN     378.64  2024  \n",
      "\n",
      "[5 rows x 29 columns]\n"
     ]
    }
   ],
   "source": [
    "# Load data\n",
    "\n",
    "\n",
    "# Corrected URL\n",
    "path = \"/home/shadi/Projects/GitHub/Tax-Sale-Baltimore/data/D24.csv\"\n",
    "# Load the CSV file directly from Google Drive\n",
    "block_data = pd.read_csv(path)\n",
    "print(block_data.head())"
   ]
  }
 ],
 "metadata": {
  "kernelspec": {
   "display_name": "base",
   "language": "python",
   "name": "python3"
  },
  "language_info": {
   "codemirror_mode": {
    "name": "ipython",
    "version": 3
   },
   "file_extension": ".py",
   "mimetype": "text/x-python",
   "name": "python",
   "nbconvert_exporter": "python",
   "pygments_lexer": "ipython3",
   "version": "3.12.7"
  }
 },
 "nbformat": 4,
 "nbformat_minor": 2
}
